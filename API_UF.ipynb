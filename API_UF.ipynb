{
  "nbformat": 4,
  "nbformat_minor": 0,
  "metadata": {
    "colab": {
      "provenance": [],
      "authorship_tag": "ABX9TyO9dLRDXOwQWOksqKiCsoyD",
      "include_colab_link": true
    },
    "kernelspec": {
      "name": "python3",
      "display_name": "Python 3"
    },
    "language_info": {
      "name": "python"
    }
  },
  "cells": [
    {
      "cell_type": "markdown",
      "metadata": {
        "id": "view-in-github",
        "colab_type": "text"
      },
      "source": [
        "<a href=\"https://colab.research.google.com/github/giovannylopezd/WebScrappingUFdata/blob/main/API_UF.ipynb\" target=\"_parent\"><img src=\"https://colab.research.google.com/assets/colab-badge.svg\" alt=\"Open In Colab\"/></a>"
      ]
    },
    {
      "cell_type": "code",
      "execution_count": 2,
      "metadata": {
        "id": "Jv9tBKKtob1l"
      },
      "outputs": [],
      "source": [
        "import pandas as pd\n",
        "from datetime import datetime"
      ]
    },
    {
      "cell_type": "code",
      "source": [
        "# Get the current year\n",
        "current_year = datetime.now().year\n",
        "\n",
        "# Initialize an empty DataFrame to store the data\n",
        "all_data = pd.DataFrame()"
      ],
      "metadata": {
        "id": "gSrAP9r6ohdz"
      },
      "execution_count": 3,
      "outputs": []
    },
    {
      "cell_type": "code",
      "source": [
        "# Loop over the range of years from 2013 to the current year\n",
        "for year in range(2013, current_year + 1):\n",
        "    # Update the URL with the current year\n",
        "    url = f\"https://www.sii.cl/valores_y_fechas/uf/uf{year}.htm\"\n",
        "    \n",
        "    # Read the table from the URL\n",
        "    table = pd.read_html(url, attrs = {'id':'table_export'})\n",
        "\n",
        "    # Convert to pd.Dataframe\n",
        "    table = pd.DataFrame(table[0])\n",
        "\n",
        "    # Tidy Format\n",
        "    month_cols = table.columns[1:-1].tolist()\n",
        "    table = pd.melt(table, \n",
        "                  id_vars=['Día'], \n",
        "                  value_vars = month_cols, \n",
        "                  var_name='Mes', \n",
        "                  value_name='Valor UF')\n",
        "\n",
        "    # Add an additional column indicating the year\n",
        "    table['Año'] = year\n",
        "\n",
        "    # Append the table to the all_data DataFrame\n",
        "    all_data = pd.concat([all_data, table])\n",
        "\n",
        "    # Reset the index of the all_data DataFrame\n",
        "    all_data.reset_index(drop=True, inplace=True)"
      ],
      "metadata": {
        "id": "KevZ7AQUonSg"
      },
      "execution_count": 4,
      "outputs": []
    },
    {
      "cell_type": "code",
      "source": [
        "all_data"
      ],
      "metadata": {
        "id": "nwj2XNeyw60c",
        "colab": {
          "base_uri": "https://localhost:8080/",
          "height": 423
        },
        "outputId": "8198fe29-c8cd-40fc-80a9-5ec7570272cc"
      },
      "execution_count": 5,
      "outputs": [
        {
          "output_type": "execute_result",
          "data": {
            "text/plain": [
              "      Día  Mes   Valor UF   Año\n",
              "0       1  Ene  22.837,06  2013\n",
              "1       2  Ene  22.833,37  2013\n",
              "2       3  Ene  22.829,68  2013\n",
              "3       4  Ene  22.825,99  2013\n",
              "4       5  Ene  22.822,30  2013\n",
              "...   ...  ...        ...   ...\n",
              "3746   27  Nov        NaN  2023\n",
              "3747   28  Nov        NaN  2023\n",
              "3748   29  Nov        NaN  2023\n",
              "3749   30  Nov        NaN  2023\n",
              "3750   31  Nov        NaN  2023\n",
              "\n",
              "[3751 rows x 4 columns]"
            ],
            "text/html": [
              "\n",
              "  <div id=\"df-6c1ab19f-0430-4fd7-9887-9b94965f6689\">\n",
              "    <div class=\"colab-df-container\">\n",
              "      <div>\n",
              "<style scoped>\n",
              "    .dataframe tbody tr th:only-of-type {\n",
              "        vertical-align: middle;\n",
              "    }\n",
              "\n",
              "    .dataframe tbody tr th {\n",
              "        vertical-align: top;\n",
              "    }\n",
              "\n",
              "    .dataframe thead th {\n",
              "        text-align: right;\n",
              "    }\n",
              "</style>\n",
              "<table border=\"1\" class=\"dataframe\">\n",
              "  <thead>\n",
              "    <tr style=\"text-align: right;\">\n",
              "      <th></th>\n",
              "      <th>Día</th>\n",
              "      <th>Mes</th>\n",
              "      <th>Valor UF</th>\n",
              "      <th>Año</th>\n",
              "    </tr>\n",
              "  </thead>\n",
              "  <tbody>\n",
              "    <tr>\n",
              "      <th>0</th>\n",
              "      <td>1</td>\n",
              "      <td>Ene</td>\n",
              "      <td>22.837,06</td>\n",
              "      <td>2013</td>\n",
              "    </tr>\n",
              "    <tr>\n",
              "      <th>1</th>\n",
              "      <td>2</td>\n",
              "      <td>Ene</td>\n",
              "      <td>22.833,37</td>\n",
              "      <td>2013</td>\n",
              "    </tr>\n",
              "    <tr>\n",
              "      <th>2</th>\n",
              "      <td>3</td>\n",
              "      <td>Ene</td>\n",
              "      <td>22.829,68</td>\n",
              "      <td>2013</td>\n",
              "    </tr>\n",
              "    <tr>\n",
              "      <th>3</th>\n",
              "      <td>4</td>\n",
              "      <td>Ene</td>\n",
              "      <td>22.825,99</td>\n",
              "      <td>2013</td>\n",
              "    </tr>\n",
              "    <tr>\n",
              "      <th>4</th>\n",
              "      <td>5</td>\n",
              "      <td>Ene</td>\n",
              "      <td>22.822,30</td>\n",
              "      <td>2013</td>\n",
              "    </tr>\n",
              "    <tr>\n",
              "      <th>...</th>\n",
              "      <td>...</td>\n",
              "      <td>...</td>\n",
              "      <td>...</td>\n",
              "      <td>...</td>\n",
              "    </tr>\n",
              "    <tr>\n",
              "      <th>3746</th>\n",
              "      <td>27</td>\n",
              "      <td>Nov</td>\n",
              "      <td>NaN</td>\n",
              "      <td>2023</td>\n",
              "    </tr>\n",
              "    <tr>\n",
              "      <th>3747</th>\n",
              "      <td>28</td>\n",
              "      <td>Nov</td>\n",
              "      <td>NaN</td>\n",
              "      <td>2023</td>\n",
              "    </tr>\n",
              "    <tr>\n",
              "      <th>3748</th>\n",
              "      <td>29</td>\n",
              "      <td>Nov</td>\n",
              "      <td>NaN</td>\n",
              "      <td>2023</td>\n",
              "    </tr>\n",
              "    <tr>\n",
              "      <th>3749</th>\n",
              "      <td>30</td>\n",
              "      <td>Nov</td>\n",
              "      <td>NaN</td>\n",
              "      <td>2023</td>\n",
              "    </tr>\n",
              "    <tr>\n",
              "      <th>3750</th>\n",
              "      <td>31</td>\n",
              "      <td>Nov</td>\n",
              "      <td>NaN</td>\n",
              "      <td>2023</td>\n",
              "    </tr>\n",
              "  </tbody>\n",
              "</table>\n",
              "<p>3751 rows × 4 columns</p>\n",
              "</div>\n",
              "      <button class=\"colab-df-convert\" onclick=\"convertToInteractive('df-6c1ab19f-0430-4fd7-9887-9b94965f6689')\"\n",
              "              title=\"Convert this dataframe to an interactive table.\"\n",
              "              style=\"display:none;\">\n",
              "        \n",
              "  <svg xmlns=\"http://www.w3.org/2000/svg\" height=\"24px\"viewBox=\"0 0 24 24\"\n",
              "       width=\"24px\">\n",
              "    <path d=\"M0 0h24v24H0V0z\" fill=\"none\"/>\n",
              "    <path d=\"M18.56 5.44l.94 2.06.94-2.06 2.06-.94-2.06-.94-.94-2.06-.94 2.06-2.06.94zm-11 1L8.5 8.5l.94-2.06 2.06-.94-2.06-.94L8.5 2.5l-.94 2.06-2.06.94zm10 10l.94 2.06.94-2.06 2.06-.94-2.06-.94-.94-2.06-.94 2.06-2.06.94z\"/><path d=\"M17.41 7.96l-1.37-1.37c-.4-.4-.92-.59-1.43-.59-.52 0-1.04.2-1.43.59L10.3 9.45l-7.72 7.72c-.78.78-.78 2.05 0 2.83L4 21.41c.39.39.9.59 1.41.59.51 0 1.02-.2 1.41-.59l7.78-7.78 2.81-2.81c.8-.78.8-2.07 0-2.86zM5.41 20L4 18.59l7.72-7.72 1.47 1.35L5.41 20z\"/>\n",
              "  </svg>\n",
              "      </button>\n",
              "      \n",
              "  <style>\n",
              "    .colab-df-container {\n",
              "      display:flex;\n",
              "      flex-wrap:wrap;\n",
              "      gap: 12px;\n",
              "    }\n",
              "\n",
              "    .colab-df-convert {\n",
              "      background-color: #E8F0FE;\n",
              "      border: none;\n",
              "      border-radius: 50%;\n",
              "      cursor: pointer;\n",
              "      display: none;\n",
              "      fill: #1967D2;\n",
              "      height: 32px;\n",
              "      padding: 0 0 0 0;\n",
              "      width: 32px;\n",
              "    }\n",
              "\n",
              "    .colab-df-convert:hover {\n",
              "      background-color: #E2EBFA;\n",
              "      box-shadow: 0px 1px 2px rgba(60, 64, 67, 0.3), 0px 1px 3px 1px rgba(60, 64, 67, 0.15);\n",
              "      fill: #174EA6;\n",
              "    }\n",
              "\n",
              "    [theme=dark] .colab-df-convert {\n",
              "      background-color: #3B4455;\n",
              "      fill: #D2E3FC;\n",
              "    }\n",
              "\n",
              "    [theme=dark] .colab-df-convert:hover {\n",
              "      background-color: #434B5C;\n",
              "      box-shadow: 0px 1px 3px 1px rgba(0, 0, 0, 0.15);\n",
              "      filter: drop-shadow(0px 1px 2px rgba(0, 0, 0, 0.3));\n",
              "      fill: #FFFFFF;\n",
              "    }\n",
              "  </style>\n",
              "\n",
              "      <script>\n",
              "        const buttonEl =\n",
              "          document.querySelector('#df-6c1ab19f-0430-4fd7-9887-9b94965f6689 button.colab-df-convert');\n",
              "        buttonEl.style.display =\n",
              "          google.colab.kernel.accessAllowed ? 'block' : 'none';\n",
              "\n",
              "        async function convertToInteractive(key) {\n",
              "          const element = document.querySelector('#df-6c1ab19f-0430-4fd7-9887-9b94965f6689');\n",
              "          const dataTable =\n",
              "            await google.colab.kernel.invokeFunction('convertToInteractive',\n",
              "                                                     [key], {});\n",
              "          if (!dataTable) return;\n",
              "\n",
              "          const docLinkHtml = 'Like what you see? Visit the ' +\n",
              "            '<a target=\"_blank\" href=https://colab.research.google.com/notebooks/data_table.ipynb>data table notebook</a>'\n",
              "            + ' to learn more about interactive tables.';\n",
              "          element.innerHTML = '';\n",
              "          dataTable['output_type'] = 'display_data';\n",
              "          await google.colab.output.renderOutput(dataTable, element);\n",
              "          const docLink = document.createElement('div');\n",
              "          docLink.innerHTML = docLinkHtml;\n",
              "          element.appendChild(docLink);\n",
              "        }\n",
              "      </script>\n",
              "    </div>\n",
              "  </div>\n",
              "  "
            ]
          },
          "metadata": {},
          "execution_count": 5
        }
      ]
    },
    {
      "cell_type": "code",
      "source": [
        "value = input('Enter a value: ')\n",
        "selected_row = all_data[all_data['Mes'] == value]\n",
        "print(selected_row.to_string(index=False))"
      ],
      "metadata": {
        "id": "K0qz0of0A3-C"
      },
      "execution_count": null,
      "outputs": []
    },
    {
      "cell_type": "code",
      "source": [
        "year = int(input('Ingresa un Año: '))\n",
        "month = int(input('Ingresa un Mes: '))\n",
        "day = int(input('Ingresa un Día del Mes: '))\n",
        "date1 = datetime.date(year, month, day)"
      ],
      "metadata": {
        "colab": {
          "base_uri": "https://localhost:8080/"
        },
        "id": "rrYURdQpDugK",
        "outputId": "796accd2-d2d1-4de9-8d1b-9b4d1a56009c"
      },
      "execution_count": null,
      "outputs": [
        {
          "name": "stdout",
          "output_type": "stream",
          "text": [
            "Ingresa un Año: 2013\n",
            "Ingresa un Mes: 1\n",
            "Ingresa un Día del Mes: 19\n"
          ]
        }
      ]
    },
    {
      "cell_type": "code",
      "source": [
        "date1"
      ],
      "metadata": {
        "colab": {
          "base_uri": "https://localhost:8080/"
        },
        "id": "3ET5wdPZEEPL",
        "outputId": "d6a1cbac-bafa-41f4-e2d0-b6702c99c6a8"
      },
      "execution_count": null,
      "outputs": [
        {
          "output_type": "execute_result",
          "data": {
            "text/plain": [
              "datetime.date(2013, 1, 19)"
            ]
          },
          "metadata": {},
          "execution_count": 135
        }
      ]
    }
  ]
}